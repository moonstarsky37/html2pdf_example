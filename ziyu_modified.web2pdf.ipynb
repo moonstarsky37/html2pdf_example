{
 "cells": [
  {
   "cell_type": "code",
   "execution_count": 5,
   "id": "47c22ddb",
   "metadata": {},
   "outputs": [],
   "source": [
    "import qrcode\n",
    "from PIL import Image\n",
    "import string    \n",
    "import random\n",
    "import pdfkit\n",
    "import os\n",
    "import glob\n",
    "import datetime\n",
    "from datetime import datetime\n",
    "import requests\n",
    "import pandas as pd\n",
    "from pandas.io.json import json_normalize\n",
    "import json\n",
    "import requests.packages.urllib3\n",
    "requests.packages.urllib3.disable_warnings()"
   ]
  },
  {
   "cell_type": "code",
   "execution_count": 6,
   "id": "83559c12",
   "metadata": {},
   "outputs": [],
   "source": [
    "# load wkhtmltopdf\n",
    "base_path = os.path.join('./')#####只要改這邊\n",
    "Download_PATH = os.path.join(base_path,'wkhtmltopdf','bin','wkhtmltopdf.exe')\n",
    "config = pdfkit.configuration(wkhtmltopdf=Download_PATH)"
   ]
  },
  {
   "cell_type": "code",
   "execution_count": 7,
   "id": "5856363b",
   "metadata": {},
   "outputs": [],
   "source": [
    "def generate_qrcode(inp):\n",
    "    url = \"https://iot.thinktron.co/platform/ntpcagr/PDF/\"+str(inp)\n",
    "    qr = qrcode.QRCode(version=1,error_correction=qrcode.constants.ERROR_CORRECT_H,box_size=2,border=3)\n",
    "    qr.add_data(url)\n",
    "    qr.make(fit=True)\n",
    "    img = qr.make_image(fill_color=\"black\", back_color=\"white\").convert('RGB')\n",
    "    img.save(os.path.join(base_path,'PDF',str(inp)+\".jpg\"))"
   ]
  },
  {
   "cell_type": "code",
   "execution_count": 8,
   "id": "b79f34c0",
   "metadata": {},
   "outputs": [],
   "source": [
    "def id_generator(size=50, chars=string.ascii_uppercase + string.digits):\n",
    "    return ''.join(random.choice(chars) for _ in range(size))"
   ]
  },
  {
   "cell_type": "code",
   "execution_count": 54,
   "id": "718295e2",
   "metadata": {},
   "outputs": [],
   "source": [
    "!start ."
   ]
  },
  {
   "cell_type": "code",
   "execution_count": 16,
   "id": "123cef96",
   "metadata": {},
   "outputs": [],
   "source": [
    "def wkhtmltopdf(date,QR,region,section,num,MS,CA,NP,RA,CF,LS,DF):    \n",
    "    head = '''\n",
    "    <link rel=\"stylesheet\" href=\"https://stackpath.bootstrapcdn.com/bootstrap/4.5.2/css/bootstrap.min.css\" integrity=\"sha384-JcKb8q3iqJ61gNV9KGb8thSsNjpSL0n8PARn9HuZOnIxN0hoP+VmmDGMN5t9UJ0Z\" crossorigin=\"anonymous\">\n",
    "    <link rel=\"stylesheet\" href=\"https://use.fontawesome.com/releases/v5.8.2/css/all.css\" integrity=\"sha384-oS3vJWv+0UjzBfQzYUhtDYW+Pj2yciDJxpsK1OYPAYjqT085Qq/1cq5FLXAZQ7Ay\" crossorigin=\"anonymous\">\n",
    "    <link href=\"https://cdn.datatables.net/1.10.22/css/jquery.dataTables.min.css\" rel=\"stylesheet\" media=\"all\">\n",
    "    <link href=\"https://fonts.googleapis.com/css?family=Montserrat:400,700,200\" rel=\"stylesheet\" />\n",
    "    <link href=\"https://maxcdn.bootstrapcdn.com/font-awesome/latest/css/font-awesome.min.css\" rel=\"stylesheet\">\n",
    "    '''\n",
    "    style = '''\n",
    "    <style type=\"text/css\">\n",
    "        .waterMark {\n",
    "            text-align:center;\n",
    "            position:absolute;\n",
    "            width:100%;\n",
    "            height:100%;\n",
    "            z-index:-9999;\n",
    "            pointer-event:none;\n",
    "            font-size:5em;\n",
    "            font-weight:bold;\n",
    "            font-family:Consolas;\n",
    "            color:#EDEDED\n",
    "        }\n",
    "        .waterMark-inner{\n",
    "            transform:rotate(-20deg);\n",
    "            line-height:200px\n",
    "        }\n",
    "    </style>\n",
    "    '''\n",
    "    body = '''\n",
    "    <div class=\"waterMark\">\n",
    "        <img style=\"position: fixed;bottom: 45%;left:28%;height:150; width:auto;\" src=\"https://iot.thinktron.co/platform/ntpcagr/img/LOGO0.jpg\" alt=\"NTPC\" title=\"NTPC\">\n",
    "    </div>\n",
    "    <p style=\"text-align:center;font-size:45px;font-family:Microsoft YaHei;\">新北市政府農業局山坡地資訊查詢結果</p>\n",
    "        <table id=\"searchResult-table\" class=\"table table-sm table-bordered text-center\" style=\"cursor: pointer;\">\n",
    "            <thead class=\"thead-dark\">\n",
    "                <tbody>\n",
    "                <tr>\n",
    "                    <th scope=\"col\" style=\"width: 12.5%; vertical-align: middle;\" >查詢時間：</th>\n",
    "                    <th scope=\"col\" colspan=\"4\" style=\"width: 50%; vertical-align: middle !important;\">{}</th>\n",
    "                    <th scope=\"col\" style=\"width: 12.5%; vertical-align: middle;\" >查驗網址：</th>\n",
    "                    <th scope=\"col\" colspan=\"3\";style=\"width: 37.5%; vertical-align: middle;\"><img src=\"https://iot.thinktron.co/platform/ntpcagr/PDF/{}.jpg\" alt=\"qr\" title=\"qr\"></th>\n",
    "                </tr>\n",
    "                <tr>\n",
    "                    <th scope=\"col\" style=\"width: 12.5%; vertical-align: middle;\" >查詢地號</th>\n",
    "                    <th scope=\"col\" style=\"width: 12.5%; vertical-align: middle;\" >是否座落<br>法定山坡地</th>\n",
    "                    <th scope=\"col\" style=\"width: 12.5%; vertical-align: middle;\" >是否座落<br>特定水保區</th>\n",
    "                    <th scope=\"col\" style=\"width: 12.5%; vertical-align: middle;\" >是否座落<br>國家公園</th>\n",
    "                    <th scope=\"col\" style=\"width: 12.5%; vertical-align: middle;\" >是否座落<br>水庫集水區</th>\n",
    "                    <th scope=\"col\" style=\"width: 12.5%; vertical-align: middle;\" >是否座落<br>保安林</th>\n",
    "                    <th scope=\"col\" style=\"width: 12.5%; vertical-align: middle;\" >是否座落<br>山崩地滑<br>地質敏感區</th>\n",
    "                    <th scope=\"col\" style=\"width: 12.5%; vertical-align: middle;\" >是否座落<br>土石流潛勢溪流<br>影響範圍</th>\n",
    "                </tr>\n",
    "                <tr>\n",
    "                    <th scope=\"col\" style=\"vertical-align: middle;\">{}{}<br>{}號</th>\n",
    "                    <th scope=\"col\" style=\"vertical-align: middle;\">{}</th>\n",
    "                    <th scope=\"col\" style=\"vertical-align: middle;\">{}</th>\n",
    "                    <th scope=\"col\" style=\"vertical-align: middle;\">{}</th>\n",
    "                    <th scope=\"col\" style=\"vertical-align: middle;\">{}</th>\n",
    "                    <th scope=\"col\" style=\"vertical-align: middle;\">{}</th>\n",
    "                    <th scope=\"col\" style=\"vertical-align: middle;\">{}</th>\n",
    "                    <th scope=\"col\" style=\"vertical-align: middle;\">{}</th>\n",
    "                </tr>\n",
    "                <tr>\n",
    "                    <th scope=\"col\" colspan=\"8\"; style=\"text-align: left;\">\n",
    "                        <h5>\n",
    "                        注意事項：<br>\n",
    "                        1. 山坡地、特水區皆可作為本局正式證明文件之依據。<br>\n",
    "                        2. 本頁查詢結果資料將保存一個月。<br>\n",
    "                        3. 地籍資料仍以地政機關之資料為準，本系統查無相關地籍資料時，請逕洽本局查詢。<br>\n",
    "                        4. 本系統之山坡地範圍不包含國有林事業區、試驗用林地及保安林地。<br>\n",
    "                        5. 山坡地範圍及特定水土保持區倘因範圍有疑義者，請逕洽本局查詢。<br>\n",
    "                        6. 國家公園、水庫集水區、保安林、地質敏感區及土石流潛勢溪流影響範圍由相關主管機關提供，不具證明效力。\n",
    "                        </h5>\n",
    "                    </th>\n",
    "                </tr>\n",
    "                </tbody>\n",
    "            </thead>\n",
    "        </table>\n",
    "            '''.format(date,QR,region,section,num,MS,CA,NP,RA,CF,LS,DF)\n",
    "    options = {\n",
    "        'encoding': 'utf-8',  #utf-8\n",
    "        'page-height': '210',\n",
    "        'page-width': '297',\n",
    "        'background': ''\n",
    "    }\n",
    "    \n",
    "    f = open(os.path.join(base_path,'PDF',QR+\".html\"),'w')\n",
    "    f.write(head)\n",
    "    f.write(style)\n",
    "    f.write(body)\n",
    "    \n",
    "    f.close()\n",
    "    pdfkit.from_file(os.path.join(base_path,'PDF',QR+\".html\"), os.path.join(base_path,'PDF',QR+\".pdf\"), configuration=config, options=options)"
   ]
  },
  {
   "cell_type": "code",
   "execution_count": 17,
   "id": "85318638",
   "metadata": {},
   "outputs": [],
   "source": [
    "def convert01(inp):\n",
    "    if inp == 1 or str(inp) == \"1\":\n",
    "        result = \"是\"\n",
    "    else:\n",
    "        result = \"否\"\n",
    "    return result"
   ]
  },
  {
   "cell_type": "code",
   "execution_count": 18,
   "id": "a0cbc1a0",
   "metadata": {},
   "outputs": [],
   "source": [
    "def convert01MS(inp):\n",
    "    if inp == 1 or str(inp) == \"1\":\n",
    "        result = \"是\"\n",
    "    elif inp == 3 or str(inp) == \"3\":\n",
    "        result = \"否\"\n",
    "    else:\n",
    "        result = \"請洽農業局\"\n",
    "    return result"
   ]
  },
  {
   "cell_type": "code",
   "execution_count": 19,
   "id": "a8c7962c",
   "metadata": {},
   "outputs": [],
   "source": [
    "def get_single_cad(AA48,AA49):\n",
    "    cad_data = requests.get(\"https://iot.thinktron.co/ntpcagr-api/get_cad/\"+str(AA48)+str(AA49),verify = False)\n",
    "    cad_info = requests.get(\"https://iot.thinktron.co/ntpcagr-api/get_sectionInfo/\"+str(AA48),verify = False)\n",
    "    cad_data_json = json.loads(cad_data.text)\n",
    "    cad_info_json = json.loads(cad_info.text)\n",
    "    data = cad_data_json[0]['json_build_object']['features'][0]['properties']\n",
    "    return [cad_info_json[0]['CODE_C'],cad_info_json[0]['NAME'],str(AA49)[0:4]+\"-\"+str(AA49)[4:8],convert01MS(data[\"MS\"]),convert01(data[\"CA\"]),convert01(data[\"NP\"]),convert01(data[\"RA\"]),convert01(data[\"CF\"]),convert01(data[\"LS\"]),convert01(data[\"DF\"])]"
   ]
  },
  {
   "cell_type": "code",
   "execution_count": 20,
   "id": "41b1079f",
   "metadata": {},
   "outputs": [],
   "source": [
    "def export_single_cad(AA48,AA49):    \n",
    "    this_time = datetime.now().strftime(\"%Y/%m/%d %H:%M\")\n",
    "    qrstring = id_generator()\n",
    "    generate_qrcode(qrstring)\n",
    "    cad = get_single_cad(AA48,AA49)\n",
    "    wkhtmltopdf(this_time,qrstring,cad[0],cad[1],cad[2],cad[3],cad[4],cad[5],cad[6],cad[7],cad[8],cad[9])"
   ]
  },
  {
   "cell_type": "code",
   "execution_count": 31,
   "id": "33559736",
   "metadata": {},
   "outputs": [],
   "source": [
    "tmp_table = [get_single_cad(\"1822\",\"00260000\"), get_single_cad(\"1822\",\"00270000\")]"
   ]
  },
  {
   "cell_type": "code",
   "execution_count": 32,
   "id": "660690dc",
   "metadata": {},
   "outputs": [
    {
     "data": {
      "text/plain": [
       "[['永和區', '福和段', '0026-0000', '否', '否', '否', '否', '否', '否', '否'],\n",
       " ['永和區', '福和段', '0027-0000', '否', '否', '否', '否', '否', '否', '否']]"
      ]
     },
     "execution_count": 32,
     "metadata": {},
     "output_type": "execute_result"
    }
   ],
   "source": [
    "tmp_table"
   ]
  },
  {
   "cell_type": "code",
   "execution_count": 21,
   "id": "186d4abf",
   "metadata": {},
   "outputs": [
    {
     "name": "stdout",
     "output_type": "stream",
     "text": [
      "Loading pages (1/6)\r\n",
      "[>                                                           ] 0%\r",
      "[======>                                                     ] 10%\r",
      "[=======>                                                    ] 12%\r",
      "Warning: SSL error ignored                                        \r\n",
      "Warning: SSL error ignored\r\n",
      "[============>                                               ] 20%\r",
      "Warning: Failed to load https://iot.thinktron.co/platform/ntpcagr/PDF/4WP9ZNQRYSM10S2GPH7XKYVOLEKFV3JET9IV1C8E38D70TFMYW.jpg (ignore)\r\n",
      "[===================>                                        ] 33%\r",
      "[======================>                                     ] 38%\r",
      "[========================>                                   ] 40%\r",
      "[===========================>                                ] 45%\r",
      "[============================================================] 100%\r",
      "Counting pages (2/6)                                               \r\n",
      "[============================================================] Object 1 of 1\r",
      "Resolving links (4/6)                                                       \r\n",
      "[============================================================] Object 1 of 1\r",
      "Loading headers and footers (5/6)                                           \r\n",
      "Printing pages (6/6)\r\n",
      "[>                                                           ] Preparing\r",
      "[============================================================] Page 1 of 1\r",
      "Done                                                                      \r\n"
     ]
    }
   ],
   "source": [
    "export_single_cad(\"1822\",\"00260000\")"
   ]
  },
  {
   "cell_type": "code",
   "execution_count": 34,
   "id": "834671b6",
   "metadata": {},
   "outputs": [
    {
     "data": {
      "text/plain": [
       "'永和區福和段0026-0000'"
      ]
     },
     "execution_count": 34,
     "metadata": {},
     "output_type": "execute_result"
    }
   ],
   "source": []
  },
  {
   "cell_type": "code",
   "execution_count": 45,
   "id": "1bfd597d",
   "metadata": {
    "scrolled": true
   },
   "outputs": [
    {
     "name": "stdout",
     "output_type": "stream",
     "text": [
      "<tr><th scope=\"col\" style=\"vertical-align: middle;\">永和區福和段<br>0026-0000</th><th scope=\"col\" style=\"vertical-align: middle;\">否</th><th scope=\"col\" style=\"vertical-align: middle;\">否</th><th scope=\"col\" style=\"vertical-align: middle;\">否</th><th scope=\"col\" style=\"vertical-align: middle;\">否</th><th scope=\"col\" style=\"vertical-align: middle;\">否</th><th scope=\"col\" style=\"vertical-align: middle;\">否</th><th scope=\"col\" style=\"vertical-align: middle;\">否</th></tr>\n"
     ]
    }
   ],
   "source": [
    "base_tbstr = '<th scope=\"col\" style=\"vertical-align: middle;\">{}</th>'\n",
    "tbstr = ['<tr>' for i in range(len(tmp_table))]\n",
    "for i,v in enumerate(tmp_table):\n",
    "    for j in range(8):\n",
    "        if j == 0:\n",
    "            tbstr[i] += base_tbstr.format(''.join(v[:2])+ '<br>'+ v[2])\n",
    "        else:\n",
    "            tbstr[i] += base_tbstr.format(v[j+2])\n",
    "    tbstr[i] += '</tr>'\n",
    "print(tbstr[0])"
   ]
  },
  {
   "cell_type": "code",
   "execution_count": 48,
   "id": "22db24e0",
   "metadata": {},
   "outputs": [
    {
     "data": {
      "text/plain": [
       "'<tr><th scope=\"col\" style=\"vertical-align: middle;\">永和區福和段<br>0026-0000</th><th scope=\"col\" style=\"vertical-align: middle;\">否</th><th scope=\"col\" style=\"vertical-align: middle;\">否</th><th scope=\"col\" style=\"vertical-align: middle;\">否</th><th scope=\"col\" style=\"vertical-align: middle;\">否</th><th scope=\"col\" style=\"vertical-align: middle;\">否</th><th scope=\"col\" style=\"vertical-align: middle;\">否</th><th scope=\"col\" style=\"vertical-align: middle;\">否</th></tr><tr><th scope=\"col\" style=\"vertical-align: middle;\">永和區福和段<br>0027-0000</th><th scope=\"col\" style=\"vertical-align: middle;\">否</th><th scope=\"col\" style=\"vertical-align: middle;\">否</th><th scope=\"col\" style=\"vertical-align: middle;\">否</th><th scope=\"col\" style=\"vertical-align: middle;\">否</th><th scope=\"col\" style=\"vertical-align: middle;\">否</th><th scope=\"col\" style=\"vertical-align: middle;\">否</th><th scope=\"col\" style=\"vertical-align: middle;\">否</th></tr>'"
      ]
     },
     "execution_count": 48,
     "metadata": {},
     "output_type": "execute_result"
    }
   ],
   "source": []
  },
  {
   "cell_type": "code",
   "execution_count": 51,
   "id": "fd521249",
   "metadata": {},
   "outputs": [
    {
     "data": {
      "text/plain": [
       "'\\n<div class=\"waterMark\">\\n    <img style=\"position: fixed;bottom: 45%;left:28%;height:150; width:auto;\" src=\"https://iot.thinktron.co/platform/ntpcagr/img/LOGO0.jpg\" alt=\"NTPC\" title=\"NTPC\">\\n</div>\\n<p style=\"text-align:center;font-size:45px;font-family:Microsoft YaHei;\">新北市政府農業局山坡地資訊查詢結果</p>\\n    <table id=\"searchResult-table\" class=\"table table-sm table-bordered text-center\" style=\"cursor: pointer;\">\\n        <thead class=\"thead-dark\">\\n            <tbody>\\n            <tr>\\n                <th scope=\"col\" style=\"width: 12.5%; vertical-align: middle;\" >查詢時間：</th>\\n                <th scope=\"col\" colspan=\"4\" style=\"width: 50%; vertical-align: middle !important;\">2021.10.13</th>\\n                <th scope=\"col\" style=\"width: 12.5%; vertical-align: middle;\" >查驗網址：</th>\\n                <th scope=\"col\" colspan=\"3\";style=\"width: 37.5%; vertical-align: middle;\"><img src=\"https://iot.thinktron.co/platform/ntpcagr/PDF/QR.jpg\" alt=\"qr\" title=\"qr\"></th>\\n            </tr>\\n            <tr>\\n                <th scope=\"col\" style=\"width: 12.5%; vertical-align: middle;\" >查詢地號</th>\\n                <th scope=\"col\" style=\"width: 12.5%; vertical-align: middle;\" >是否座落<br>法定山坡地</th>\\n                <th scope=\"col\" style=\"width: 12.5%; vertical-align: middle;\" >是否座落<br>特定水保區</th>\\n                <th scope=\"col\" style=\"width: 12.5%; vertical-align: middle;\" >是否座落<br>國家公園</th>\\n                <th scope=\"col\" style=\"width: 12.5%; vertical-align: middle;\" >是否座落<br>水庫集水區</th>\\n                <th scope=\"col\" style=\"width: 12.5%; vertical-align: middle;\" >是否座落<br>保安林</th>\\n                <th scope=\"col\" style=\"width: 12.5%; vertical-align: middle;\" >是否座落<br>山崩地滑<br>地質敏感區</th>\\n                <th scope=\"col\" style=\"width: 12.5%; vertical-align: middle;\" >是否座落<br>土石流潛勢溪流<br>影響範圍</th>\\n            </tr>\\n            <tr><th scope=\"col\" style=\"vertical-align: middle;\">永和區福和段<br>0026-0000</th><th scope=\"col\" style=\"vertical-align: middle;\">否</th><th scope=\"col\" style=\"vertical-align: middle;\">否</th><th scope=\"col\" style=\"vertical-align: middle;\">否</th><th scope=\"col\" style=\"vertical-align: middle;\">否</th><th scope=\"col\" style=\"vertical-align: middle;\">否</th><th scope=\"col\" style=\"vertical-align: middle;\">否</th><th scope=\"col\" style=\"vertical-align: middle;\">否</th></tr><tr><th scope=\"col\" style=\"vertical-align: middle;\">永和區福和段<br>0027-0000</th><th scope=\"col\" style=\"vertical-align: middle;\">否</th><th scope=\"col\" style=\"vertical-align: middle;\">否</th><th scope=\"col\" style=\"vertical-align: middle;\">否</th><th scope=\"col\" style=\"vertical-align: middle;\">否</th><th scope=\"col\" style=\"vertical-align: middle;\">否</th><th scope=\"col\" style=\"vertical-align: middle;\">否</th><th scope=\"col\" style=\"vertical-align: middle;\">否</th></tr>\\n            <tr>\\n                <th scope=\"col\" colspan=\"8\"; style=\"text-align: left;\">\\n                    <h5>\\n                    注意事項：<br>\\n                    1. 山坡地、特水區皆可作為本局正式證明文件之依據。<br>\\n                    2. 本頁查詢結果資料將保存一個月。<br>\\n                    3. 地籍資料仍以地政機關之資料為準，本系統查無相關地籍資料時，請逕洽本局查詢。<br>\\n                    4. 本系統之山坡地範圍不包含國有林事業區、試驗用林地及保安林地。<br>\\n                    5. 山坡地範圍及特定水土保持區倘因範圍有疑義者，請逕洽本局查詢。<br>\\n                    6. 國家公園、水庫集水區、保安林、地質敏感區及土石流潛勢溪流影響範圍由相關主管機關提供，不具證明效力。\\n                    </h5>\\n                </th>\\n            </tr>\\n            </tbody>\\n        </thead>\\n    </table>\\n        '"
      ]
     },
     "execution_count": 51,
     "metadata": {},
     "output_type": "execute_result"
    }
   ],
   "source": [
    "    body = '''\n",
    "    <div class=\"waterMark\">\n",
    "        <img style=\"position: fixed;bottom: 45%;left:28%;height:150; width:auto;\" src=\"https://iot.thinktron.co/platform/ntpcagr/img/LOGO0.jpg\" alt=\"NTPC\" title=\"NTPC\">\n",
    "    </div>\n",
    "    <p style=\"text-align:center;font-size:45px;font-family:Microsoft YaHei;\">新北市政府農業局山坡地資訊查詢結果</p>\n",
    "        <table id=\"searchResult-table\" class=\"table table-sm table-bordered text-center\" style=\"cursor: pointer;\">\n",
    "            <thead class=\"thead-dark\">\n",
    "                <tbody>\n",
    "                <tr>\n",
    "                    <th scope=\"col\" style=\"width: 12.5%; vertical-align: middle;\" >查詢時間：</th>\n",
    "                    <th scope=\"col\" colspan=\"4\" style=\"width: 50%; vertical-align: middle !important;\">{}</th>\n",
    "                    <th scope=\"col\" style=\"width: 12.5%; vertical-align: middle;\" >查驗網址：</th>\n",
    "                    <th scope=\"col\" colspan=\"3\";style=\"width: 37.5%; vertical-align: middle;\"><img src=\"https://iot.thinktron.co/platform/ntpcagr/PDF/{}.jpg\" alt=\"qr\" title=\"qr\"></th>\n",
    "                </tr>\n",
    "                <tr>\n",
    "                    <th scope=\"col\" style=\"width: 12.5%; vertical-align: middle;\" >查詢地號</th>\n",
    "                    <th scope=\"col\" style=\"width: 12.5%; vertical-align: middle;\" >是否座落<br>法定山坡地</th>\n",
    "                    <th scope=\"col\" style=\"width: 12.5%; vertical-align: middle;\" >是否座落<br>特定水保區</th>\n",
    "                    <th scope=\"col\" style=\"width: 12.5%; vertical-align: middle;\" >是否座落<br>國家公園</th>\n",
    "                    <th scope=\"col\" style=\"width: 12.5%; vertical-align: middle;\" >是否座落<br>水庫集水區</th>\n",
    "                    <th scope=\"col\" style=\"width: 12.5%; vertical-align: middle;\" >是否座落<br>保安林</th>\n",
    "                    <th scope=\"col\" style=\"width: 12.5%; vertical-align: middle;\" >是否座落<br>山崩地滑<br>地質敏感區</th>\n",
    "                    <th scope=\"col\" style=\"width: 12.5%; vertical-align: middle;\" >是否座落<br>土石流潛勢溪流<br>影響範圍</th>\n",
    "                </tr>\n",
    "                {}\n",
    "                <tr>\n",
    "                    <th scope=\"col\" colspan=\"8\"; style=\"text-align: left;\">\n",
    "                        <h5>\n",
    "                        注意事項：<br>\n",
    "                        1. 山坡地、特水區皆可作為本局正式證明文件之依據。<br>\n",
    "                        2. 本頁查詢結果資料將保存一個月。<br>\n",
    "                        3. 地籍資料仍以地政機關之資料為準，本系統查無相關地籍資料時，請逕洽本局查詢。<br>\n",
    "                        4. 本系統之山坡地範圍不包含國有林事業區、試驗用林地及保安林地。<br>\n",
    "                        5. 山坡地範圍及特定水土保持區倘因範圍有疑義者，請逕洽本局查詢。<br>\n",
    "                        6. 國家公園、水庫集水區、保安林、地質敏感區及土石流潛勢溪流影響範圍由相關主管機關提供，不具證明效力。\n",
    "                        </h5>\n",
    "                    </th>\n",
    "                </tr>\n",
    "                </tbody>\n",
    "            </thead>\n",
    "        </table>\n",
    "            '''.format('2021.10.13','QR',''.join(tbstr))\n",
    "body"
   ]
  },
  {
   "cell_type": "code",
   "execution_count": 52,
   "id": "3c0616bf",
   "metadata": {},
   "outputs": [],
   "source": [
    "def wkhtmltopdf(body, date,QR):\n",
    "    head = '''\n",
    "    <link rel=\"stylesheet\" href=\"https://stackpath.bootstrapcdn.com/bootstrap/4.5.2/css/bootstrap.min.css\" integrity=\"sha384-JcKb8q3iqJ61gNV9KGb8thSsNjpSL0n8PARn9HuZOnIxN0hoP+VmmDGMN5t9UJ0Z\" crossorigin=\"anonymous\">\n",
    "    <link rel=\"stylesheet\" href=\"https://use.fontawesome.com/releases/v5.8.2/css/all.css\" integrity=\"sha384-oS3vJWv+0UjzBfQzYUhtDYW+Pj2yciDJxpsK1OYPAYjqT085Qq/1cq5FLXAZQ7Ay\" crossorigin=\"anonymous\">\n",
    "    <link href=\"https://cdn.datatables.net/1.10.22/css/jquery.dataTables.min.css\" rel=\"stylesheet\" media=\"all\">\n",
    "    <link href=\"https://fonts.googleapis.com/css?family=Montserrat:400,700,200\" rel=\"stylesheet\" />\n",
    "    <link href=\"https://maxcdn.bootstrapcdn.com/font-awesome/latest/css/font-awesome.min.css\" rel=\"stylesheet\">\n",
    "    '''\n",
    "    style = '''\n",
    "    <style type=\"text/css\">\n",
    "        .waterMark {\n",
    "            text-align:center;\n",
    "            position:absolute;\n",
    "            width:100%;\n",
    "            height:100%;\n",
    "            z-index:-9999;\n",
    "            pointer-event:none;\n",
    "            font-size:5em;\n",
    "            font-weight:bold;\n",
    "            font-family:Consolas;\n",
    "            color:#EDEDED\n",
    "        }\n",
    "        .waterMark-inner{\n",
    "            transform:rotate(-20deg);\n",
    "            line-height:200px\n",
    "        }\n",
    "    </style>\n",
    "    '''\n",
    "    body = body\n",
    "    options = {\n",
    "        'encoding': 'utf-8',  #utf-8\n",
    "        'page-height': '210',\n",
    "        'page-width': '297',\n",
    "        'background': ''\n",
    "    }\n",
    "    \n",
    "    f = open(os.path.join(base_path,'PDF',QR+\"_ziyu.html\"),'w')\n",
    "    f.write(head)\n",
    "    f.write(style)\n",
    "    f.write(body)\n",
    "    \n",
    "    f.close()\n",
    "    pdfkit.from_file(os.path.join(base_path,'PDF',QR+\"_ziyu.html\"), os.path.join(base_path,'PDF',QR+\"_ziyu.pdf\"), configuration=config, options=options)"
   ]
  },
  {
   "cell_type": "code",
   "execution_count": 53,
   "id": "24aeb822",
   "metadata": {},
   "outputs": [
    {
     "name": "stdout",
     "output_type": "stream",
     "text": [
      "Loading pages (1/6)\r\n",
      "[>                                                           ] 0%\r",
      "[======>                                                     ] 10%\r",
      "[=======>                                                    ] 12%\r",
      "Warning: SSL error ignored                                        \r\n",
      "Warning: SSL error ignored\r\n",
      "[============>                                               ] 20%\r",
      "Warning: Failed to load https://iot.thinktron.co/platform/ntpcagr/PDF/QR.jpg (ignore)\r\n",
      "[===================>                                        ] 32%\r",
      "[======================>                                     ] 37%\r",
      "[========================>                                   ] 41%\r",
      "[=========================>                                  ] 43%\r",
      "[===========================>                                ] 46%\r",
      "[============================================================] 100%\r",
      "Counting pages (2/6)                                               \r\n",
      "[============================================================] Object 1 of 1\r",
      "Resolving links (4/6)                                                       \r\n",
      "[============================================================] Object 1 of 1\r",
      "Loading headers and footers (5/6)                                           \r\n",
      "Printing pages (6/6)\r\n",
      "[>                                                           ] Preparing\r",
      "[============================================================] Page 1 of 1\r",
      "Done                                                                      \r\n"
     ]
    }
   ],
   "source": [
    "def export_single_cad(AA48_list,AA49_list, body):\n",
    "    this_time = datetime.now().strftime(\"%Y/%m/%d %H:%M\")\n",
    "    qrstring = id_generator()\n",
    "    generate_qrcode(qrstring)\n",
    "    cad_list = []\n",
    "    for AA48,AA49 in zip(AA48_list,AA49_list):\n",
    "        cad = get_single_cad(AA48,AA49)\n",
    "        cad_list.append(cad)\n",
    "    wkhtmltopdf(body, this_time, qrstring)\n",
    "    #wkhtmltopdf(this_time,qrstring,cad[0],cad[1],cad[2],cad[3],cad[4],cad[5],cad[6],cad[7],cad[8],cad[9])\n",
    "AA48_list = [\"1822\", \"1822\"]\n",
    "AA49_list = ['00260000', '00270000']\n",
    "export_single_cad(AA48_list,AA49_list, body)"
   ]
  },
  {
   "cell_type": "code",
   "execution_count": null,
   "id": "1305fc23",
   "metadata": {},
   "outputs": [],
   "source": []
  }
 ],
 "metadata": {
  "kernelspec": {
   "display_name": "Python 3",
   "language": "python",
   "name": "python3"
  },
  "language_info": {
   "codemirror_mode": {
    "name": "ipython",
    "version": 3
   },
   "file_extension": ".py",
   "mimetype": "text/x-python",
   "name": "python",
   "nbconvert_exporter": "python",
   "pygments_lexer": "ipython3",
   "version": "3.6.12"
  }
 },
 "nbformat": 4,
 "nbformat_minor": 5
}
